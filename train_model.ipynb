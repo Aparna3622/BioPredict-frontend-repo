{
 "cells": [
  {
   "cell_type": "code",
   "execution_count": 4,
   "id": "f4acdcd6",
   "metadata": {},
   "outputs": [
    {
     "name": "stdout",
     "output_type": "stream",
     "text": [
      "Accuracy: 0.975\n",
      "              precision    recall  f1-score   support\n",
      "\n",
      "        High       0.89      1.00      0.94         8\n",
      "         Low       1.00      1.00      1.00        25\n",
      "      Medium       1.00      0.86      0.92         7\n",
      "\n",
      "    accuracy                           0.97        40\n",
      "   macro avg       0.96      0.95      0.95        40\n",
      "weighted avg       0.98      0.97      0.97        40\n",
      "\n",
      "✅ Model saved as backend/model.pkl\n"
     ]
    }
   ],
   "source": [
    "import pandas as pd\n",
    "from sklearn.model_selection import train_test_split\n",
    "from sklearn.ensemble import RandomForestClassifier\n",
    "from sklearn.metrics import accuracy_score, classification_report\n",
    "import joblib\n",
    "\n",
    "# Load dataset\n",
    "df = pd.read_csv('health_user.csv.xls')\n",
    "\n",
    "# One-hot encode categorical variables (except the target 'risk')\n",
    "X = df.drop('risk', axis=1)\n",
    "y = df['risk']\n",
    "X = pd.get_dummies(X)\n",
    "\n",
    "# Split the data\n",
    "X_train, X_test, y_train, y_test = train_test_split(X, y, test_size=0.2, random_state=42)\n",
    "\n",
    "# Train the model\n",
    "model = RandomForestClassifier(random_state=42)\n",
    "model.fit(X_train, y_train)\n",
    "\n",
    "# Predict and evaluate\n",
    "y_pred = model.predict(X_test)\n",
    "print('Accuracy:', accuracy_score(y_test, y_pred))\n",
    "print(classification_report(y_test, y_pred))\n",
    "\n",
    "# Save the trained model for your Flask backend\n",
    "joblib.dump(model, '../backend/model.pkl')\n",
    "print('✅ Model saved as backend/model.pkl')"
   ]
  },
  {
   "cell_type": "code",
   "execution_count": 5,
   "id": "947039b5",
   "metadata": {},
   "outputs": [
    {
     "name": "stdout",
     "output_type": "stream",
     "text": [
      "✅ Model saved successfully as model.pkl\n"
     ]
    }
   ],
   "source": [
    "import joblib\n",
    "\n",
    "# Save the trained model\n",
    "joblib.dump(model, 'model.pkl')\n",
    "\n",
    "print(\"✅ Model saved successfully as model.pkl\")\n"
   ]
  },
  {
   "cell_type": "code",
   "execution_count": 10,
   "id": "1c0b6fef",
   "metadata": {},
   "outputs": [
    {
     "name": "stdout",
     "output_type": "stream",
     "text": [
      "Predicted health risk for new user: Low\n"
     ]
    }
   ],
   "source": [
    "import joblib\n",
    "import pandas as pd\n",
    "\n",
    "# Load the trained model\n",
    "model = joblib.load('../backend/model.pkl')\n",
    "\n",
    "# Define a new user sample (replace values as needed)\n",
    "new_user = {\n",
    "    'age': 40,\n",
    "    'gender': 'male',\n",
    "    'height': 175,\n",
    "    'weight': 80,\n",
    "    'familyHistory': 'heartDisease',\n",
    "    'smoking': 'never',\n",
    "    'alcohol': 'none',\n",
    "    'exercise': 'moderate',\n",
    "    'diet': 'good',\n",
    "    'stress': 'low',\n",
    "    'sleep': 'good',\n",
    "    'conditions': '',\n",
    "    'medications': '',\n",
    "    'allergies': ''\n",
    "}\n",
    "\n",
    "# Convert to DataFrame\n",
    "sample_df = pd.DataFrame([new_user])\n",
    "\n",
    "# Preprocess: one-hot encode to match training features\n",
    "df = pd.read_csv('health_user.csv.xls')\n",
    "X = df.drop('risk', axis=1)\n",
    "X_enc = pd.get_dummies(X)\n",
    "sample_enc = pd.get_dummies(sample_df)\n",
    "\n",
    "# Align columns with training data\n",
    "sample_enc = sample_enc.reindex(columns=X_enc.columns, fill_value=0)\n",
    "\n",
    "# Predict risk\n",
    "predicted_risk = model.predict(sample_enc)[0]\n",
    "print('Predicted health risk for new user:', predicted_risk)"
   ]
  },
  {
   "cell_type": "code",
   "execution_count": 11,
   "id": "7e28b9de",
   "metadata": {},
   "outputs": [
    {
     "name": "stdout",
     "output_type": "stream",
     "text": [
      "Index(['age', 'gender', 'height', 'weight', 'familyHistory', 'smoking',\n",
      "       'alcohol', 'exercise', 'diet', 'stress', 'sleep', 'conditions',\n",
      "       'medications', 'allergies', 'risk'],\n",
      "      dtype='object')\n"
     ]
    }
   ],
   "source": [
    "print(df.columns)\n",
    "\n"
   ]
  },
  {
   "cell_type": "code",
   "execution_count": 1,
   "id": "486c63d7",
   "metadata": {},
   "outputs": [
    {
     "ename": "NameError",
     "evalue": "name 'X_train' is not defined",
     "output_type": "error",
     "traceback": [
      "\u001b[1;31m---------------------------------------------------------------------------\u001b[0m",
      "\u001b[1;31mNameError\u001b[0m                                 Traceback (most recent call last)",
      "Cell \u001b[1;32mIn[1], line 20\u001b[0m\n\u001b[0;32m     18\u001b[0m results \u001b[38;5;241m=\u001b[39m {}\n\u001b[0;32m     19\u001b[0m \u001b[38;5;28;01mfor\u001b[39;00m name, model \u001b[38;5;129;01min\u001b[39;00m models\u001b[38;5;241m.\u001b[39mitems():\n\u001b[1;32m---> 20\u001b[0m     model\u001b[38;5;241m.\u001b[39mfit(\u001b[43mX_train\u001b[49m, y_train)\n\u001b[0;32m     21\u001b[0m     y_pred \u001b[38;5;241m=\u001b[39m model\u001b[38;5;241m.\u001b[39mpredict(X_test)\n\u001b[0;32m     22\u001b[0m     acc \u001b[38;5;241m=\u001b[39m accuracy_score(y_test, y_pred)\n",
      "\u001b[1;31mNameError\u001b[0m: name 'X_train' is not defined"
     ]
    }
   ],
   "source": [
    "from sklearn.linear_model import LogisticRegression\n",
    "from sklearn.svm import SVC\n",
    "from sklearn.tree import DecisionTreeClassifier\n",
    "from sklearn.ensemble import RandomForestClassifier, GradientBoostingClassifier\n",
    "from sklearn.neighbors import KNeighborsClassifier\n",
    "\n",
    "models = {\n",
    "    'Logistic Regression': LogisticRegression(max_iter=1000),\n",
    "    'SVM': SVC(),\n",
    "    'Decision Tree': DecisionTreeClassifier(),\n",
    "    'Random Forest': RandomForestClassifier(),\n",
    "    'Gradient Boosting': GradientBoostingClassifier(),\n",
    "    'KNN': KNeighborsClassifier()\n",
    "}\n",
    "\n",
    "from sklearn.metrics import accuracy_score, classification_report\n",
    "\n",
    "results = {}\n",
    "for name, model in models.items():\n",
    "    model.fit(X_train, y_train)\n",
    "    y_pred = model.predict(X_test)\n",
    "    acc = accuracy_score(y_test, y_pred)\n",
    "    results[name] = acc\n",
    "    print(f'\\n{name} Accuracy: {acc:.4f}')\n",
    "    print(classification_report(y_test, y_pred, digits=4))\n",
    "\n",
    "best_model = max(results, key=results.get)\n",
    "print(f'\\nBest model: {best_model} with accuracy {results[best_model]:.4f}')"
   ]
  },
  {
   "cell_type": "code",
   "execution_count": 9,
   "id": "9e3b7ee6",
   "metadata": {},
   "outputs": [
    {
     "name": "stdout",
     "output_type": "stream",
     "text": [
      "✅ Updated dataset saved with risk labels.\n"
     ]
    }
   ],
   "source": [
    "# Add a synthetic 'risk' label based on simple rules\n",
    "def assign_risk(row):\n",
    "    risk_score = 0\n",
    "    if row['age'] >= 50: risk_score += 2\n",
    "    if 'heartDisease' in str(row['familyHistory']) or 'stroke' in str(row['familyHistory']) or 'diabetes' in str(row['familyHistory']): risk_score += 2\n",
    "    if row['smoking'] == 'current': risk_score += 2\n",
    "    if row['alcohol'] == 'heavy': risk_score += 1\n",
    "    if row['exercise'] == 'none': risk_score += 1\n",
    "    if row['diet'] in ['poor', 'fair']: risk_score += 1\n",
    "    if row['stress'] == 'high': risk_score += 1\n",
    "    if row['sleep'] == 'poor': risk_score += 1\n",
    "    if pd.notnull(row['conditions']) and len(str(row['conditions'])) > 0: risk_score += 1\n",
    "    if risk_score >= 5:\n",
    "        return 'High'\n",
    "    elif risk_score >= 3:\n",
    "        return 'Medium'\n",
    "    else:\n",
    "        return 'Low'\n",
    "\n",
    "df['risk'] = df.apply(assign_risk, axis=1)\n",
    "\n",
    "# Save the updated dataset\n",
    "df.to_csv('health_user.csv.xls', index=False)\n",
    "print('✅ Updated dataset saved with risk labels.')"
   ]
  },
  {
   "cell_type": "code",
   "execution_count": 2,
   "id": "0f08cbdf",
   "metadata": {},
   "outputs": [
    {
     "ename": "NameError",
     "evalue": "name 'models' is not defined",
     "output_type": "error",
     "traceback": [
      "\u001b[1;31m---------------------------------------------------------------------------\u001b[0m",
      "\u001b[1;31mNameError\u001b[0m                                 Traceback (most recent call last)",
      "Cell \u001b[1;32mIn[2], line 3\u001b[0m\n\u001b[0;32m      1\u001b[0m \u001b[38;5;28;01mfrom\u001b[39;00m\u001b[38;5;250m \u001b[39m\u001b[38;5;21;01msklearn\u001b[39;00m\u001b[38;5;21;01m.\u001b[39;00m\u001b[38;5;21;01mmetrics\u001b[39;00m\u001b[38;5;250m \u001b[39m\u001b[38;5;28;01mimport\u001b[39;00m accuracy_score, classification_report\n\u001b[0;32m      2\u001b[0m results \u001b[38;5;241m=\u001b[39m {}\n\u001b[1;32m----> 3\u001b[0m \u001b[38;5;28;01mfor\u001b[39;00m name, model \u001b[38;5;129;01min\u001b[39;00m \u001b[43mmodels\u001b[49m\u001b[38;5;241m.\u001b[39mitems():\n\u001b[0;32m      4\u001b[0m     model\u001b[38;5;241m.\u001b[39mfit(X_train, y_train)\n\u001b[0;32m      5\u001b[0m     y_pred \u001b[38;5;241m=\u001b[39m model\u001b[38;5;241m.\u001b[39mpredict(X_test)\n",
      "\u001b[1;31mNameError\u001b[0m: name 'models' is not defined"
     ]
    }
   ],
   "source": [
    "from sklearn.metrics import accuracy_score, classification_report\n",
    "results = {}\n",
    "for name, model in models.items():\n",
    "    model.fit(X_train, y_train)\n",
    "    y_pred = model.predict(X_test)\n",
    "    acc = accuracy_score(y_test, y_pred)\n",
    "    results[name] = acc\n",
    "    print(f'\\n{name} Accuracy: {acc:.4f}')\n",
    "    print(classification_report(y_test, y_pred, digits=4))\n",
    "\n",
    "best_model = max(results, key=results.get)\n",
    "print(f'\\nBest model: {best_model} with accuracy {results[best_model]:.4f}')"
   ]
  },
  {
   "cell_type": "code",
   "execution_count": 4,
   "id": "bab0e9a5",
   "metadata": {},
   "outputs": [
    {
     "name": "stderr",
     "output_type": "stream",
     "text": [
      "c:\\python\\Lib\\site-packages\\sklearn\\linear_model\\_logistic.py:470: ConvergenceWarning: lbfgs failed to converge after 1000 iteration(s) (status=1):\n",
      "STOP: TOTAL NO. OF ITERATIONS REACHED LIMIT\n",
      "\n",
      "Increase the number of iterations to improve the convergence (max_iter=1000).\n",
      "You might also want to scale the data as shown in:\n",
      "    https://scikit-learn.org/stable/modules/preprocessing.html\n",
      "Please also refer to the documentation for alternative solver options:\n",
      "    https://scikit-learn.org/stable/modules/linear_model.html#logistic-regression\n",
      "  n_iter_i = _check_optimize_result(\n",
      "c:\\python\\Lib\\site-packages\\sklearn\\metrics\\_classification.py:1706: UndefinedMetricWarning: Precision is ill-defined and being set to 0.0 in labels with no predicted samples. Use `zero_division` parameter to control this behavior.\n",
      "  _warn_prf(average, modifier, f\"{metric.capitalize()} is\", result.shape[0])\n",
      "c:\\python\\Lib\\site-packages\\sklearn\\metrics\\_classification.py:1706: UndefinedMetricWarning: Precision is ill-defined and being set to 0.0 in labels with no predicted samples. Use `zero_division` parameter to control this behavior.\n",
      "  _warn_prf(average, modifier, f\"{metric.capitalize()} is\", result.shape[0])\n",
      "c:\\python\\Lib\\site-packages\\sklearn\\metrics\\_classification.py:1706: UndefinedMetricWarning: Precision is ill-defined and being set to 0.0 in labels with no predicted samples. Use `zero_division` parameter to control this behavior.\n",
      "  _warn_prf(average, modifier, f\"{metric.capitalize()} is\", result.shape[0])\n"
     ]
    },
    {
     "name": "stdout",
     "output_type": "stream",
     "text": [
      "\n",
      "Logistic Regression Accuracy: 0.9750\n",
      "              precision    recall  f1-score   support\n",
      "\n",
      "        High     0.8889    1.0000    0.9412         8\n",
      "         Low     1.0000    1.0000    1.0000        25\n",
      "      Medium     1.0000    0.8571    0.9231         7\n",
      "\n",
      "    accuracy                         0.9750        40\n",
      "   macro avg     0.9630    0.9524    0.9548        40\n",
      "weighted avg     0.9778    0.9750    0.9748        40\n",
      "\n",
      "\n",
      "SVM Accuracy: 0.7750\n",
      "              precision    recall  f1-score   support\n",
      "\n",
      "        High     0.7500    0.7500    0.7500         8\n",
      "         Low     0.7812    1.0000    0.8772        25\n",
      "      Medium     0.0000    0.0000    0.0000         7\n",
      "\n",
      "    accuracy                         0.7750        40\n",
      "   macro avg     0.5104    0.5833    0.5424        40\n",
      "weighted avg     0.6383    0.7750    0.6982        40\n",
      "\n",
      "\n",
      "Decision Tree Accuracy: 0.9750\n",
      "              precision    recall  f1-score   support\n",
      "\n",
      "        High     0.8889    1.0000    0.9412         8\n",
      "         Low     1.0000    1.0000    1.0000        25\n",
      "      Medium     1.0000    0.8571    0.9231         7\n",
      "\n",
      "    accuracy                         0.9750        40\n",
      "   macro avg     0.9630    0.9524    0.9548        40\n",
      "weighted avg     0.9778    0.9750    0.9748        40\n",
      "\n",
      "\n",
      "Random Forest Accuracy: 0.9750\n",
      "              precision    recall  f1-score   support\n",
      "\n",
      "        High     0.8889    1.0000    0.9412         8\n",
      "         Low     1.0000    1.0000    1.0000        25\n",
      "      Medium     1.0000    0.8571    0.9231         7\n",
      "\n",
      "    accuracy                         0.9750        40\n",
      "   macro avg     0.9630    0.9524    0.9548        40\n",
      "weighted avg     0.9778    0.9750    0.9748        40\n",
      "\n",
      "\n",
      "Random Forest Accuracy: 0.9750\n",
      "              precision    recall  f1-score   support\n",
      "\n",
      "        High     0.8889    1.0000    0.9412         8\n",
      "         Low     1.0000    1.0000    1.0000        25\n",
      "      Medium     1.0000    0.8571    0.9231         7\n",
      "\n",
      "    accuracy                         0.9750        40\n",
      "   macro avg     0.9630    0.9524    0.9548        40\n",
      "weighted avg     0.9778    0.9750    0.9748        40\n",
      "\n",
      "\n",
      "Gradient Boosting Accuracy: 0.9750\n",
      "              precision    recall  f1-score   support\n",
      "\n",
      "        High     0.8889    1.0000    0.9412         8\n",
      "         Low     1.0000    1.0000    1.0000        25\n",
      "      Medium     1.0000    0.8571    0.9231         7\n",
      "\n",
      "    accuracy                         0.9750        40\n",
      "   macro avg     0.9630    0.9524    0.9548        40\n",
      "weighted avg     0.9778    0.9750    0.9748        40\n",
      "\n",
      "\n",
      "KNN Accuracy: 0.9250\n",
      "              precision    recall  f1-score   support\n",
      "\n",
      "        High     0.8000    1.0000    0.8889         8\n",
      "         Low     1.0000    0.9600    0.9796        25\n",
      "      Medium     0.8333    0.7143    0.7692         7\n",
      "\n",
      "    accuracy                         0.9250        40\n",
      "   macro avg     0.8778    0.8914    0.8792        40\n",
      "weighted avg     0.9308    0.9250    0.9246        40\n",
      "\n",
      "\n",
      "Best model: Logistic Regression with accuracy 0.9750\n",
      "\n",
      "Gradient Boosting Accuracy: 0.9750\n",
      "              precision    recall  f1-score   support\n",
      "\n",
      "        High     0.8889    1.0000    0.9412         8\n",
      "         Low     1.0000    1.0000    1.0000        25\n",
      "      Medium     1.0000    0.8571    0.9231         7\n",
      "\n",
      "    accuracy                         0.9750        40\n",
      "   macro avg     0.9630    0.9524    0.9548        40\n",
      "weighted avg     0.9778    0.9750    0.9748        40\n",
      "\n",
      "\n",
      "KNN Accuracy: 0.9250\n",
      "              precision    recall  f1-score   support\n",
      "\n",
      "        High     0.8000    1.0000    0.8889         8\n",
      "         Low     1.0000    0.9600    0.9796        25\n",
      "      Medium     0.8333    0.7143    0.7692         7\n",
      "\n",
      "    accuracy                         0.9250        40\n",
      "   macro avg     0.8778    0.8914    0.8792        40\n",
      "weighted avg     0.9308    0.9250    0.9246        40\n",
      "\n",
      "\n",
      "Best model: Logistic Regression with accuracy 0.9750\n"
     ]
    }
   ],
   "source": [
    "from sklearn.linear_model import LogisticRegression\n",
    "from sklearn.svm import SVC\n",
    "from sklearn.tree import DecisionTreeClassifier\n",
    "from sklearn.ensemble import RandomForestClassifier, GradientBoostingClassifier\n",
    "from sklearn.neighbors import KNeighborsClassifier\n",
    "\n",
    "models = {\n",
    "    'Logistic Regression': LogisticRegression(max_iter=1000),\n",
    "    'SVM': SVC(),\n",
    "    'Decision Tree': DecisionTreeClassifier(),\n",
    "    'Random Forest': RandomForestClassifier(),\n",
    "    'Gradient Boosting': GradientBoostingClassifier(),\n",
    "    'KNN': KNeighborsClassifier()\n",
    "}\n",
    "\n",
    "from sklearn.metrics import accuracy_score, classification_report\n",
    "\n",
    "results = {}\n",
    "for name, model in models.items():\n",
    "    model.fit(X_train, y_train)\n",
    "    y_pred = model.predict(X_test)\n",
    "    acc = accuracy_score(y_test, y_pred)\n",
    "    results[name] = acc\n",
    "    print(f'\\n{name} Accuracy: {acc:.4f}')\n",
    "    print(classification_report(y_test, y_pred, digits=4))\n",
    "\n",
    "best_model = max(results, key=results.get)\n",
    "print(f'\\nBest model: {best_model} with accuracy {results[best_model]:.4f}')"
   ]
  },
  {
   "cell_type": "code",
   "execution_count": 5,
   "id": "3674a51f",
   "metadata": {},
   "outputs": [],
   "source": [
    "import pandas as pd\n",
    "from sklearn.model_selection import train_test_split\n",
    "\n",
    "# Load dataset\n",
    "df = pd.read_csv('health_user.csv.xls')\n",
    "\n",
    "# One-hot encode categorical variables (except the target 'risk')\n",
    "X = df.drop('risk', axis=1)\n",
    "y = df['risk']\n",
    "X = pd.get_dummies(X)\n",
    "\n",
    "# Split the data\n",
    "X_train, X_test, y_train, y_test = train_test_split(X, y, test_size=0.2, random_state=42)"
   ]
  },
  {
   "cell_type": "code",
   "execution_count": 1,
   "id": "af531331",
   "metadata": {},
   "outputs": [
    {
     "ename": "NameError",
     "evalue": "name 'X_test' is not defined",
     "output_type": "error",
     "traceback": [
      "\u001b[1;31m---------------------------------------------------------------------------\u001b[0m",
      "\u001b[1;31mNameError\u001b[0m                                 Traceback (most recent call last)",
      "Cell \u001b[1;32mIn[1], line 8\u001b[0m\n\u001b[0;32m      4\u001b[0m \u001b[38;5;66;03m# Load test data (ensure X_test, y_test are defined as in previous cells)\u001b[39;00m\n\u001b[0;32m      5\u001b[0m \n\u001b[0;32m      6\u001b[0m \u001b[38;5;66;03m# Load Random Forest model\u001b[39;00m\n\u001b[0;32m      7\u001b[0m rf_model \u001b[38;5;241m=\u001b[39m joblib\u001b[38;5;241m.\u001b[39mload(\u001b[38;5;124m'\u001b[39m\u001b[38;5;124m../backend/model.pkl\u001b[39m\u001b[38;5;124m'\u001b[39m)  \u001b[38;5;66;03m# or 'model.pkl' if you saved it there\u001b[39;00m\n\u001b[1;32m----> 8\u001b[0m y_pred_rf \u001b[38;5;241m=\u001b[39m rf_model\u001b[38;5;241m.\u001b[39mpredict(\u001b[43mX_test\u001b[49m)\n\u001b[0;32m      9\u001b[0m \u001b[38;5;28mprint\u001b[39m(\u001b[38;5;124m'\u001b[39m\u001b[38;5;124mRandom Forest Results:\u001b[39m\u001b[38;5;124m'\u001b[39m)\n\u001b[0;32m     10\u001b[0m \u001b[38;5;28mprint\u001b[39m(\u001b[38;5;124m'\u001b[39m\u001b[38;5;124mAccuracy:\u001b[39m\u001b[38;5;124m'\u001b[39m, accuracy_score(y_test, y_pred_rf))\n",
      "\u001b[1;31mNameError\u001b[0m: name 'X_test' is not defined"
     ]
    }
   ],
   "source": [
    "import joblib\n",
    "from sklearn.metrics import accuracy_score, classification_report\n",
    "\n",
    "# Load test data (ensure X_test, y_test are defined as in previous cells)\n",
    "\n",
    "# Load Random Forest model\n",
    "rf_model = joblib.load('../backend/model.pkl')  # or 'model.pkl' if you saved it there\n",
    "y_pred_rf = rf_model.predict(X_test)\n",
    "print('Random Forest Results:')\n",
    "print('Accuracy:', accuracy_score(y_test, y_pred_rf))\n",
    "print(classification_report(y_test, y_pred_rf))\n",
    "\n",
    "# Load Logistic Regression model\n",
    "logreg_model = joblib.load('logreg_model.pkl')  # Update path if needed\n",
    "y_pred_logreg = logreg_model.predict(X_test)\n",
    "print('Logistic Regression Results:')\n",
    "print('Accuracy:', accuracy_score(y_test, y_pred_logreg))\n",
    "print(classification_report(y_test, y_pred_logreg))"
   ]
  }
 ],
 "metadata": {
  "kernelspec": {
   "display_name": "Python 3",
   "language": "python",
   "name": "python3"
  },
  "language_info": {
   "codemirror_mode": {
    "name": "ipython",
    "version": 3
   },
   "file_extension": ".py",
   "mimetype": "text/x-python",
   "name": "python",
   "nbconvert_exporter": "python",
   "pygments_lexer": "ipython3",
   "version": "3.13.1"
  }
 },
 "nbformat": 4,
 "nbformat_minor": 5
}

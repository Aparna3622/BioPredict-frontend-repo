{
 "cells": [
  {
   "cell_type": "code",
   "execution_count": 10,
   "id": "f807f2d1",
   "metadata": {},
   "outputs": [
    {
     "name": "stdout",
     "output_type": "stream",
     "text": [
      "Accuracy: 0.975\n",
      "              precision    recall  f1-score   support\n",
      "\n",
      "        High       0.89      1.00      0.94         8\n",
      "         Low       1.00      1.00      1.00        25\n",
      "      Medium       1.00      0.86      0.92         7\n",
      "\n",
      "    accuracy                           0.97        40\n",
      "   macro avg       0.96      0.95      0.95        40\n",
      "weighted avg       0.98      0.97      0.97        40\n",
      "\n",
      "✅ Logistic Regression model saved as backend/model2.pkl\n"
     ]
    }
   ],
   "source": [
    "# 1. Import libraries\n",
    "import pandas as pd\n",
    "from sklearn.model_selection import train_test_split\n",
    "from sklearn.linear_model import LogisticRegression\n",
    "from sklearn.metrics import accuracy_score, classification_report\n",
    "import joblib\n",
    "\n",
    "# 2. Load dataset\n",
    "df = pd.read_csv('health_user.csv.xls')\n",
    "\n",
    "# 3. Preprocess: One-hot encode categorical variables (except the target 'risk')\n",
    "X = df.drop('risk', axis=1)\n",
    "y = df['risk']\n",
    "X = pd.get_dummies(X)\n",
    "\n",
    "# 4. Split the data\n",
    "X_train, X_test, y_train, y_test = train_test_split(X, y, test_size=0.2, random_state=42)\n",
    "\n",
    "# 5. Train Logistic Regression model\n",
    "model = LogisticRegression(max_iter=2000)\n",
    "model.fit(X_train, y_train)\n",
    "\n",
    "# 6. Predict and evaluate\n",
    "y_pred = model.predict(X_test)\n",
    "print('Accuracy:', accuracy_score(y_test, y_pred))\n",
    "print(classification_report(y_test, y_pred))\n",
    "\n",
    "# 7. Save the trained model\n",
    "joblib.dump(model, '../backend/model2.pkl')\n",
    "print('✅ Logistic Regression model saved as backend/model2.pkl')\n",
    "\n",
    "import json\n",
    "feature_names = list(X_train.columns)\n",
    "with open('feature_names.json', 'w') as f:\n",
    "    json.dump(feature_names, f)\n"
   ]
  },
  {
   "cell_type": "code",
   "execution_count": 5,
   "id": "e694748b",
   "metadata": {},
   "outputs": [
    {
     "name": "stdout",
     "output_type": "stream",
     "text": [
      "Accuracy: 0.975\n",
      "              precision    recall  f1-score   support\n",
      "\n",
      "        High       0.89      1.00      0.94         8\n",
      "         Low       1.00      1.00      1.00        25\n",
      "      Medium       1.00      0.86      0.92         7\n",
      "\n",
      "    accuracy                           0.97        40\n",
      "   macro avg       0.96      0.95      0.95        40\n",
      "weighted avg       0.98      0.97      0.97        40\n",
      "\n",
      "✅ Logistic Regression model saved as backend/model2.pkl\n"
     ]
    }
   ],
   "source": [
    "from sklearn.linear_model import LogisticRegression\n",
    "import joblib\n",
    "\n",
    "# Train the Logistic Regression model\n",
    "logreg_model = LogisticRegression(max_iter=2000)\n",
    "logreg_model.fit(X_train, y_train)\n",
    "\n",
    "# Predict and evaluate\n",
    "y_pred = logreg_model.predict(X_test)\n",
    "from sklearn.metrics import accuracy_score, classification_report\n",
    "print('Accuracy:', accuracy_score(y_test, y_pred))\n",
    "print(classification_report(y_test, y_pred))\n",
    "\n",
    "# Save the trained Logistic Regression model for your Flask backend\n",
    "joblib.dump(logreg_model, '../backend/model2.pkl')\n",
    "print('✅ Logistic Regression model saved as backend/model2.pkl')"
   ]
  },
  {
   "cell_type": "code",
   "execution_count": 1,
   "id": "4925d395",
   "metadata": {},
   "outputs": [
    {
     "data": {
      "image/png": "[encoded data removed]",
      "text/plain": [
       "<Figure size 800x500 with 1 Axes>"
      ]
     },
     "metadata": {},
     "output_type": "display_data"
    }
   ],
   "source": [
    "import matplotlib.pyplot as plt\n",
    "\n",
    "# Accuracy values from evaluation\n",
    "accuracy_logreg = 0.89  # Replace with your actual value\n",
    "accuracy_rf = 0.975     # Replace with your actual value\n",
    "\n",
    "models = ['Logistic Regression', 'Random Forest']\n",
    "accuracies = [accuracy_logreg, accuracy_rf]\n",
    "\n",
    "plt.figure(figsize=(8, 5))\n",
    "bars = plt.bar(models, accuracies, color=['skyblue', 'lightgreen'])\n",
    "plt.ylim(0, 1.1)\n",
    "plt.ylabel('Accuracy')\n",
    "plt.title('Model Accuracy Comparison')\n",
    "\n",
    "# Add text labels on top\n",
    "for bar in bars:\n",
    "    yval = bar.get_height()\n",
    "    plt.text(bar.get_x() + bar.get_width()/2, yval + 0.02, f'{yval:.2f}', ha='center')\n",
    "\n",
    "plt.tight_layout()\n",
    "plt.show()\n"
   ]
  },
  {
   "cell_type": "code",
   "execution_count": 6,
   "id": "e7b7ca91",
   "metadata": {},
   "outputs": [
    {
     "name": "stdout",
     "output_type": "stream",
     "text": [
      "Logistic Regression Accuracy: 0.975\n",
      "              precision    recall  f1-score   support\n",
      "\n",
      "        High       0.89      1.00      0.94         8\n",
      "         Low       1.00      1.00      1.00        25\n",
      "      Medium       1.00      0.86      0.92         7\n",
      "\n",
      "    accuracy                           0.97        40\n",
      "   macro avg       0.96      0.95      0.95        40\n",
      "weighted avg       0.98      0.97      0.97        40\n",
      "\n",
      "Random Forest Accuracy: 0.975\n",
      "              precision    recall  f1-score   support\n",
      "\n",
      "        High       0.89      1.00      0.94         8\n",
      "         Low       1.00      1.00      1.00        25\n",
      "      Medium       1.00      0.86      0.92         7\n",
      "\n",
      "    accuracy                           0.97        40\n",
      "   macro avg       0.96      0.95      0.95        40\n",
      "weighted avg       0.98      0.97      0.97        40\n",
      "\n"
     ]
    }
   ],
   "source": [
    "from sklearn.linear_model import LogisticRegression\n",
    "from sklearn.ensemble import RandomForestClassifier\n",
    "from sklearn.metrics import accuracy_score, classification_report\n",
    "\n",
    "# Train Logistic Regression\n",
    "logreg = LogisticRegression(max_iter=2000)\n",
    "logreg.fit(X_train, y_train)\n",
    "y_pred_logreg = logreg.predict(X_test)\n",
    "print('Logistic Regression Accuracy:', accuracy_score(y_test, y_pred_logreg))\n",
    "print(classification_report(y_test, y_pred_logreg))\n",
    "\n",
    "# Train Random Forest\n",
    "rf = RandomForestClassifier(random_state=42)\n",
    "rf.fit(X_train, y_train)\n",
    "y_pred_rf = rf.predict(X_test)\n",
    "print('Random Forest Accuracy:', accuracy_score(y_test, y_pred_rf))\n",
    "print(classification_report(y_test, y_pred_rf))"
   ]
  },
  {
   "cell_type": "code",
   "execution_count": 7,
   "metadata": {},
   "outputs": [
    {
     "name": "stdout",
     "output_type": "stream",
     "text": [
      "✅ Model saved successfully as model2.pkl\n"
     ]
    }
   ],
   "source": [
    "import joblib\n",
    "\n",
    "# Save the trained model\n",
    "joblib.dump(model, 'model2.pkl')\n",
    "\n",
    "print(\"✅ Model saved successfully as model2.pkl\")"
   ]
  },
  {
   "cell_type": "code",
   "execution_count": 9,
   "id": "f5287e83",
   "metadata": {},
   "outputs": [
    {
     "name": "stdout",
     "output_type": "stream",
     "text": [
      "Random Forest Results:\n",
      "Accuracy: 0.975\n",
      "              precision    recall  f1-score   support\n",
      "\n",
      "        High       0.89      1.00      0.94         8\n",
      "         Low       1.00      1.00      1.00        25\n",
      "      Medium       1.00      0.86      0.92         7\n",
      "\n",
      "    accuracy                           0.97        40\n",
      "   macro avg       0.96      0.95      0.95        40\n",
      "weighted avg       0.98      0.97      0.97        40\n",
      "\n",
      "Logistic Regression Results:\n",
      "Accuracy: 0.975\n",
      "              precision    recall  f1-score   support\n",
      "\n",
      "        High       0.89      1.00      0.94         8\n",
      "         Low       1.00      1.00      1.00        25\n",
      "      Medium       1.00      0.86      0.92         7\n",
      "\n",
      "    accuracy                           0.97        40\n",
      "   macro avg       0.96      0.95      0.95        40\n",
      "weighted avg       0.98      0.97      0.97        40\n",
      "\n"
     ]
    }
   ],
   "source": [
    "import joblib\n",
    "from sklearn.metrics import accuracy_score, classification_report\n",
    "\n",
    "# Load test data (ensure X_test, y_test are defined as in previous cells)\n",
    "\n",
    "# Load Random Forest model\n",
    "rf_model = joblib.load('../backend/model.pkl')  # or 'model.pkl' if you saved it there\n",
    "y_pred_rf = rf_model.predict(X_test)\n",
    "print('Random Forest Results:')\n",
    "print('Accuracy:', accuracy_score(y_test, y_pred_rf))\n",
    "print(classification_report(y_test, y_pred_rf))\n",
    "\n",
    "# Load Logistic Regression model\n",
    "logreg_model = joblib.load('model2.pkl')  # Update path if needed\n",
    "y_pred_logreg = logreg_model.predict(X_test)\n",
    "print('Logistic Regression Results:')\n",
    "print('Accuracy:', accuracy_score(y_test, y_pred_logreg))\n",
    "print(classification_report(y_test, y_pred_logreg))"
   ]
  }
 ],
 "metadata": {
  "kernelspec": {
   "display_name": "Python 3",
   "language": "python",
   "name": "python3"
  },
  "language_info": {
   "codemirror_mode": {
    "name": "ipython",
    "version": 3
   },
   "file_extension": ".py",
   "mimetype": "text/x-python",
   "name": "python",
   "nbconvert_exporter": "python",
   "pygments_lexer": "ipython3",
   "version": "3.13.1"
  }
 },
 "nbformat": 4,
 "nbformat_minor": 5
}
